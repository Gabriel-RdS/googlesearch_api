{
  "nbformat": 4,
  "nbformat_minor": 0,
  "metadata": {
    "colab": {
      "name": "googlesearch.ipynb",
      "provenance": [],
      "collapsed_sections": [],
      "toc_visible": true,
      "authorship_tag": "ABX9TyMgrveFNRmeavUPv7GehleN",
      "include_colab_link": true
    },
    "kernelspec": {
      "name": "python3",
      "display_name": "Python 3"
    },
    "language_info": {
      "name": "python"
    }
  },
  "cells": [
    {
      "cell_type": "markdown",
      "metadata": {
        "id": "view-in-github",
        "colab_type": "text"
      },
      "source": [
        "<a href=\"https://colab.research.google.com/github/Gabriel-RdS/googlesearch_api/blob/main/googlesearch.ipynb\" target=\"_parent\"><img src=\"https://colab.research.google.com/assets/colab-badge.svg\" alt=\"Open In Colab\"/></a>"
      ]
    },
    {
      "cell_type": "code",
      "execution_count": 2,
      "metadata": {
        "id": "2JLXKp1P5FPK"
      },
      "outputs": [],
      "source": [
        "from googlesearch import search"
      ]
    },
    {
      "cell_type": "code",
      "source": [
        "query = \"API Free\"\n",
        "for i in search(query, tld =\"co.in\", num=10, stop=10,pause=2):\n",
        "  print(i)"
      ],
      "metadata": {
        "colab": {
          "base_uri": "https://localhost:8080/"
        },
        "id": "_5M0nDPsjETD",
        "outputId": "9bc3f020-3cd0-4089-a3b3-5b55b40c102d"
      },
      "execution_count": 8,
      "outputs": [
        {
          "output_type": "stream",
          "name": "stdout",
          "text": [
            "https://rapidapi.com/collection/list-of-free-apis\n",
            "https://rapidapi.com/pt/collection/list-of-free-apis\n",
            "https://rapidapi.com/theapiguy/api/free-nba\n",
            "https://rapidapi.com/blog/how-to-use-an-api/\n",
            "https://rapidapi.com/blog/api-testing/\n",
            "https://github.com/public-apis/public-apis\n",
            "https://github.com/public-apis\n",
            "https://github.com/public-apis/public-apis/issues\n",
            "https://github.com/public-apis/public-apis/pulls\n",
            "https://github.com/public-apis/public-apis/blob/master/README.md\n"
          ]
        }
      ]
    },
    {
      "cell_type": "code",
      "source": [
        "query = \"Clima em São Paulo agora!\"\n",
        "for i in search(query, tld =\"co.in\", num=10, stop=10,pause=2):\n",
        "  print(i)"
      ],
      "metadata": {
        "colab": {
          "base_uri": "https://localhost:8080/"
        },
        "id": "j0RW2VICWorM",
        "outputId": "dafcf42f-098b-4fbf-8f25-b95481eed15b"
      },
      "execution_count": 10,
      "outputs": [
        {
          "output_type": "stream",
          "name": "stdout",
          "text": [
            "https://www.weather.com/wx/today/?lat=-23.56&lon=-46.64&locale=en_US&par=google\n",
            "https://www.climatempo.com.br/previsao-do-tempo/agora/cidade/558/saopaulo-sp\n",
            "https://www.climatempo.com.br/previsao-do-tempo/cidade/558/saopaulo-\n",
            "https://tempoagora.uol.com.br/previsao-do-tempo/cidade/558/saopaulo-sp\n",
            "https://tempoagora.uol.com.br/graficos/cidade/558/saopaulo-sp\n",
            "https://www.tempo.com/hoje/sao-paulo.htm\n",
            "https://g1.globo.com/previsao-do-tempo/sp/sao-paulo.ghtml\n",
            "https://freemeteo.com.br/clima/sao-paulo/previsao-por-hora/hoje/?gid=3448439&language=portuguesebr&country=brazil\n",
            "https://www.climadobrasil.com.br/estado-de-sao-paulo/sao-paulo\n",
            "https://climaonline.com.br/sao-paulo-sp\n"
          ]
        }
      ]
    }
  ]
}